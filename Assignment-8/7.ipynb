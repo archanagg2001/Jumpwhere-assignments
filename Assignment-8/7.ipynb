{
 "cells": [
  {
   "cell_type": "code",
   "execution_count": 34,
   "id": "f0438bca",
   "metadata": {},
   "outputs": [
    {
     "name": "stdout",
     "output_type": "stream",
     "text": [
      ".py hello\n"
     ]
    }
   ],
   "source": [
    "# Write a Python class to reverse a string word by word. \n",
    "#Input string : 'hello .py' Expected Output : '.py hello'\n",
    "class revString:\n",
    "    def __init__(self,input_string):\n",
    "        self.string=input_string\n",
    "        \n",
    "    def rev_word(self):\n",
    "        x=list(self.string.split())\n",
    "        print(\" \".join(x[::-1]))\n",
    "    \n",
    "rev=revString(\"hello .py\")\n",
    "rev.rev_word()"
   ]
  },
  {
   "cell_type": "code",
   "execution_count": null,
   "id": "ca83f43f",
   "metadata": {},
   "outputs": [],
   "source": []
  }
 ],
 "metadata": {
  "kernelspec": {
   "display_name": "Python 3 (ipykernel)",
   "language": "python",
   "name": "python3"
  },
  "language_info": {
   "codemirror_mode": {
    "name": "ipython",
    "version": 3
   },
   "file_extension": ".py",
   "mimetype": "text/x-python",
   "name": "python",
   "nbconvert_exporter": "python",
   "pygments_lexer": "ipython3",
   "version": "3.9.13"
  }
 },
 "nbformat": 4,
 "nbformat_minor": 5
}
