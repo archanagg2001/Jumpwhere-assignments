{
 "cells": [
  {
   "cell_type": "code",
   "execution_count": 3,
   "id": "c46af8e8",
   "metadata": {},
   "outputs": [
    {
     "name": "stdout",
     "output_type": "stream",
     "text": [
      "Enter the string:  Hello World\n",
      "dlroW olleH\n"
     ]
    }
   ],
   "source": [
    "#Write a python class which has 2 methods get_string and print_string. \n",
    "#get_string takes a string from the user and print_string prints the string in reverse order \n",
    "class String():\n",
    "    def __int__(self):\n",
    "        self.string=\" \"\n",
    "    def get_string(self):\n",
    "        self.string =input(\"Enter the string:  \")\n",
    "    def put_string(self):\n",
    "        print(self.string[::-1])\n",
    "    \n",
    "\n",
    "NewString=String()\n",
    "NewString.get_string()\n",
    "NewString.put_string()\n"
   ]
  },
  {
   "cell_type": "code",
   "execution_count": null,
   "id": "d929a032",
   "metadata": {},
   "outputs": [],
   "source": []
  },
  {
   "cell_type": "code",
   "execution_count": null,
   "id": "d0087540",
   "metadata": {},
   "outputs": [],
   "source": []
  }
 ],
 "metadata": {
  "kernelspec": {
   "display_name": "Python 3 (ipykernel)",
   "language": "python",
   "name": "python3"
  },
  "language_info": {
   "codemirror_mode": {
    "name": "ipython",
    "version": 3
   },
   "file_extension": ".py",
   "mimetype": "text/x-python",
   "name": "python",
   "nbconvert_exporter": "python",
   "pygments_lexer": "ipython3",
   "version": "3.9.13"
  }
 },
 "nbformat": 4,
 "nbformat_minor": 5
}
