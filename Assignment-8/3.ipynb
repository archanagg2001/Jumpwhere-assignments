{
 "cells": [
  {
   "cell_type": "code",
   "execution_count": 3,
   "id": "120818b7",
   "metadata": {},
   "outputs": [
    {
     "name": "stdout",
     "output_type": "stream",
     "text": [
      "Enter number of elements of list: 2\n",
      "Enter element: 4\n",
      "Enter element: 3\n",
      "Subsets: \n",
      "[[], [4], [3], [3, 4]]\n"
     ]
    }
   ],
   "source": [
    "#Write a Python class to get all possible unique subsets from a set of distinct integers Input : [4, 5, 6] Output : [[], [6], [5], [5, 6], [4], [4, 6], [4, 5], [4, 5, 6]] \n",
    "\n",
    "class sub:  \n",
    "    def f1(self, s1): \n",
    "        return self.f2([], sorted(s1))\n",
    " \n",
    "    def f2(self, curr, s1):  \n",
    "        if s1:  \n",
    "            return self.f2(curr, s1[1:]) + self.f2(curr + [s1[0]], s1[1:])  \n",
    "        return [curr]  \n",
    "a=[]\n",
    "n=int(input(\"Enter number of elements of list: \"))\n",
    "for i in range(0,n):\n",
    "    b=int(input(\"Enter element: \"))\n",
    "    a.append(b)\n",
    "print(\"Subsets: \")\n",
    "print(sub().f1(a))"
   ]
  },
  {
   "cell_type": "code",
   "execution_count": null,
   "id": "63bac01f",
   "metadata": {},
   "outputs": [],
   "source": []
  }
 ],
 "metadata": {
  "kernelspec": {
   "display_name": "Python 3 (ipykernel)",
   "language": "python",
   "name": "python3"
  },
  "language_info": {
   "codemirror_mode": {
    "name": "ipython",
    "version": 3
   },
   "file_extension": ".py",
   "mimetype": "text/x-python",
   "name": "python",
   "nbconvert_exporter": "python",
   "pygments_lexer": "ipython3",
   "version": "3.9.13"
  }
 },
 "nbformat": 4,
 "nbformat_minor": 5
}
