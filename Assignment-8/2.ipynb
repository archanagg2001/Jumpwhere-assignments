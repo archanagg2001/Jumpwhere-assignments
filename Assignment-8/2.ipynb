{
 "cells": [
  {
   "cell_type": "code",
   "execution_count": 24,
   "id": "2303cbef",
   "metadata": {},
   "outputs": [
    {
     "name": "stdout",
     "output_type": "stream",
     "text": [
      "Not valid\n"
     ]
    }
   ],
   "source": [
    "#Write a Python class to find validity of a string of parentheses,\n",
    "#'(', ')', '{', '}', '[' and ']. These brackets must be close in the correct order,\n",
    "#for example \"()\" and \"()[]{}\" are valid but \"[)\", \"({[)]\" and \"{{{\" are invalid.\n",
    "class validity():\n",
    "    def valid(self,s):\n",
    "        stack = []\n",
    "        for ch in s:\n",
    "            if ch in ('(', '{', '['):\n",
    "                stack.append(ch)\n",
    "            else:\n",
    "                if stack and ((stack[-1] == '(' and ch == ')') or\n",
    "                              (stack[-1] == '{' and ch == '}') or\n",
    "                              (stack[-1] == '[' and ch == ']')):\n",
    "                    stack.pop()\n",
    "                else:\n",
    "                    return False\n",
    "        return  stack\n",
    "\n",
    "        \n",
    "val=validity()\n",
    "val.valid(\"()\")\n",
    "if val.valid(\"()\"):\n",
    "    print(\"Valid\")\n",
    "else:\n",
    "     print(\"Not valid\")"
   ]
  },
  {
   "cell_type": "code",
   "execution_count": null,
   "id": "64deacc7",
   "metadata": {},
   "outputs": [],
   "source": []
  },
  {
   "cell_type": "code",
   "execution_count": null,
   "id": "84fd897a",
   "metadata": {},
   "outputs": [],
   "source": []
  }
 ],
 "metadata": {
  "kernelspec": {
   "display_name": "Python 3 (ipykernel)",
   "language": "python",
   "name": "python3"
  },
  "language_info": {
   "codemirror_mode": {
    "name": "ipython",
    "version": 3
   },
   "file_extension": ".py",
   "mimetype": "text/x-python",
   "name": "python",
   "nbconvert_exporter": "python",
   "pygments_lexer": "ipython3",
   "version": "3.9.13"
  }
 },
 "nbformat": 4,
 "nbformat_minor": 5
}
