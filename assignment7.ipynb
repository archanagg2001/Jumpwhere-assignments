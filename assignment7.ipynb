{
 "cells": [
  {
   "cell_type": "code",
   "execution_count": 16,
   "id": "a7c06c5c",
   "metadata": {},
   "outputs": [
    {
     "name": "stdout",
     "output_type": "stream",
     "text": [
      "descending order:['k', 'j', 'i', 'h', 'g', 'f', 'e', 'd', 'c', 'b', 'a']\n",
      "Ascending order:['a', 'b', 'c', 'd', 'e', 'f', 'g', 'h', 'i', 'j', 'k']\n"
     ]
    }
   ],
   "source": [
    "#1 Write a Python script to sort (ascending and descending) a dictionary by value.\n",
    "\n",
    "dictValues={'a':20,'b':45,'c':67,'d':89,'e':66,'f':78,'g':99,'h':23,'i':45,'j':55,'k':0}\n",
    "desc=sorted(dictValues,reverse=True)\n",
    "asc=sorted(dictValues,reverse=False)\n",
    "print(f\"descending order:{desc}\")\n",
    "print(f\"Ascending order:{asc}\")\n"
   ]
  },
  {
   "cell_type": "code",
   "execution_count": 30,
   "id": "5588c524",
   "metadata": {},
   "outputs": [
    {
     "name": "stdout",
     "output_type": "stream",
     "text": [
      "{'a': 1, 'b': 2, 'c': 3, 'd': 4}\n"
     ]
    }
   ],
   "source": [
    "#2 Write a Python script to add a key to a dictionary.\n",
    "dictValues= {\"a\": 1, \"b\": 2, \"c\": 3}\n",
    "dictValues.update({\"d\":4})\n",
    "print(list1)\n"
   ]
  },
  {
   "cell_type": "code",
   "execution_count": 68,
   "id": "b94d2d3d",
   "metadata": {},
   "outputs": [
    {
     "name": "stdout",
     "output_type": "stream",
     "text": [
      "{1: 10, 2: 20, 3: 30, 4: 40, 5: 50, 6: 60}\n"
     ]
    }
   ],
   "source": [
    "#3  Write a Python script to concatenate following dictionaries to create a new one.\n",
    "dic1={1:10, 2:20}\n",
    "dic2={3:30, 4:40}\n",
    "dic3={5:50,6:60}\n",
    "update_dict=dic1.update(dic2)\n",
    "update_dict_final=dic1.update(dic3)\n",
    "print(dic1)\n",
    "    "
   ]
  },
  {
   "cell_type": "code",
   "execution_count": null,
   "id": "4f25c8ed",
   "metadata": {},
   "outputs": [],
   "source": []
  },
  {
   "cell_type": "code",
   "execution_count": 35,
   "id": "416578fe",
   "metadata": {},
   "outputs": [
    {
     "name": "stdout",
     "output_type": "stream",
     "text": [
      "Enter a key a\n",
      "key already exists\n"
     ]
    }
   ],
   "source": [
    "#4 Write a Python script to check if a given key already exists in a dictionary.\n",
    "dictValues={'a':20,'b':45,'c':67,'d':89,'e':66,'f':78,'g':99,'h':23,'i':45,'j':55,'k':0}\n",
    "key=input(\"Enter a key \")\n",
    "if key in dictValues:\n",
    "    print(\"key already exists\")\n"
   ]
  },
  {
   "cell_type": "code",
   "execution_count": 40,
   "id": "89ce8e01",
   "metadata": {},
   "outputs": [
    {
     "name": "stdout",
     "output_type": "stream",
     "text": [
      "key1 :40\n",
      "key2 :66\n",
      "key5 :87\n",
      "key4 :33\n",
      "key6 :55\n"
     ]
    }
   ],
   "source": [
    "#5.  Write a Python program to iterate over dictionaries using for loops.\n",
    "\n",
    "dictValues={1:40,2:66,5:87,4:33,6:55}\n",
    "for i,val in dictValues.items():\n",
    "    print(f\"key{i} :{val}\")"
   ]
  },
  {
   "cell_type": "code",
   "execution_count": 29,
   "id": "c41c519f",
   "metadata": {},
   "outputs": [
    {
     "name": "stdout",
     "output_type": "stream",
     "text": [
      "enter the range5\n",
      "{1: 1, 2: 4, 3: 9, 4: 16, 5: 25}\n"
     ]
    }
   ],
   "source": [
    "#6. Write a Python script to generate and print a dictionary that contains a number (between 1 and n) in the form (x, x*x).\n",
    "n=int(input('enter the range '))\n",
    "d=dict()\n",
    "for i in range(1,n+1):\n",
    "    d[i]=i*i\n",
    "print(d)"
   ]
  },
  {
   "cell_type": "code",
   "execution_count": 42,
   "id": "6bdd1b63",
   "metadata": {},
   "outputs": [
    {
     "name": "stdout",
     "output_type": "stream",
     "text": [
      "{1: 1, 2: 4, 3: 9, 4: 1, 7: 8, 8: 27}\n"
     ]
    }
   ],
   "source": [
    "#7.Write a Python script to merge two Python dictionaries.\n",
    "dict1={1:1,2:4,3:9}\n",
    "dict2={4:1,7:8,8:27}\n",
    "dict1.update(dict2)\n",
    "print(dict1)"
   ]
  },
  {
   "cell_type": "code",
   "execution_count": 41,
   "id": "73ab8d98",
   "metadata": {},
   "outputs": [
    {
     "name": "stdout",
     "output_type": "stream",
     "text": [
      "sum of the values: 249\n"
     ]
    }
   ],
   "source": [
    "#8.Write a Python program to sum all the items in a dictionary.\n",
    "d={'a':20,'b':99,'c':60,'d':70}\n",
    "sum=0\n",
    "for i in d.values():\n",
    "    sum=sum+i\n",
    "print(f\"sum of the values: {sum}\")\n"
   ]
  },
  {
   "cell_type": "code",
   "execution_count": 45,
   "id": "ea09f163",
   "metadata": {},
   "outputs": [
    {
     "name": "stdout",
     "output_type": "stream",
     "text": [
      "product of the values is: 3360000\n"
     ]
    }
   ],
   "source": [
    "#9.Write a Python program to multiply all the items in a dictionary.\n",
    "\n",
    "d={'a':20,'b':40,'c':60,'d':70}\n",
    "mul=1\n",
    "for i in d.values():\n",
    "    mul=mul*i\n",
    "print(f\"product of the values is: {mul}\")\n"
   ]
  },
  {
   "cell_type": "code",
   "execution_count": 60,
   "id": "08c04214",
   "metadata": {},
   "outputs": [
    {
     "name": "stdout",
     "output_type": "stream",
     "text": [
      "enter a key: a\n",
      "{'b': 80, 'c': 66, 'd': 50}\n"
     ]
    }
   ],
   "source": [
    "#10. Write a Python program to remove a key from a dictionary. \n",
    "\n",
    "d={'a':40,'b':80,'c':66,'d':50}\n",
    "key=input(\"enter a key: \")\n",
    "if key in d:\n",
    "    del d[key]\n",
    "    print(d)\n",
    "else:\n",
    "    print(\"Enter a valid key\")"
   ]
  },
  {
   "cell_type": "code",
   "execution_count": 68,
   "id": "bf709a26",
   "metadata": {},
   "outputs": [
    {
     "name": "stdout",
     "output_type": "stream",
     "text": [
      "[2, 5, 22, 35, 44, 60, 99]\n"
     ]
    }
   ],
   "source": [
    "#11.Write a Python program to sort a dictionary by key.\n",
    "d={60:'a',22:'b',35:'c',2:'d',5:'e',44:'f',99:'g'}\n",
    "for i in dict.items():\n",
    "    d_sorted=sorted(d)\n",
    "print(d_sorted)\n",
    "    "
   ]
  },
  {
   "cell_type": "code",
   "execution_count": 92,
   "id": "153a7296",
   "metadata": {},
   "outputs": [
    {
     "name": "stdout",
     "output_type": "stream",
     "text": [
      "max value is:99\n",
      "min value is:40\n"
     ]
    }
   ],
   "source": [
    "#12.Write a Python program to get the maximum and minimum value in a dictionary. \n",
    "d={'a':80,'b':60,'c':90,'d':40,'e':99,'f':56,'g':89}\n",
    "max=d['a']\n",
    "min=d['a']\n",
    "for i in d.values():\n",
    "    if i>max:\n",
    "        max=i\n",
    "    elif i<min:\n",
    "        min=i\n",
    "print(f\"max value is:{max}\")\n",
    "print(f\"min value is:{min}\")\n",
    "        \n",
    "    "
   ]
  },
  {
   "cell_type": "code",
   "execution_count": 53,
   "id": "7d89c151",
   "metadata": {},
   "outputs": [
    {
     "name": "stdout",
     "output_type": "stream",
     "text": [
      "{'a': 20, 'c': 67, 'd': 89, 'e': 66, 'g': 99, 'i': 45, 'j': 55}\n"
     ]
    }
   ],
   "source": [
    "#13.Write a Python program to remove duplicates from Dictionary.\n",
    "\n",
    "d={'a':20,'b':20,'c':67,'d':89,'e':66,'f':20,'g':99,'h':20,'i':45,'j':55,'k':20}\n",
    "res=dict()\n",
    "for key,val in d.items():\n",
    "    if val not in res.values():\n",
    "        res[key]=val\n",
    "print(res)\n",
    "\n",
    "    \n"
   ]
  },
  {
   "cell_type": "code",
   "execution_count": 57,
   "id": "71ccb1ae",
   "metadata": {},
   "outputs": [
    {
     "name": "stdout",
     "output_type": "stream",
     "text": [
      "dict is not empty\n"
     ]
    }
   ],
   "source": [
    "#14.Write a Python program to check a dictionary is empty or not. \n",
    "d={1:2,3:4}\n",
    "if d=={}:\n",
    "     print('dict is empty')\n",
    "else:\n",
    "    print('dict is not empty')\n",
    "    "
   ]
  },
  {
   "cell_type": "code",
   "execution_count": 1,
   "id": "f2eb4e16",
   "metadata": {},
   "outputs": [
    {
     "name": "stdout",
     "output_type": "stream",
     "text": [
      "{'a': 400, 'b': 400, 'c': 300, 'd': 400}\n"
     ]
    }
   ],
   "source": [
    "#15. Write a Python program to combine two dictionary adding values for common keys.\n",
    "d1 = {'a': 100, 'b': 200, 'c':300}\n",
    "d2 = {'a': 300, 'b': 200, 'd':400}\n",
    "res=dict()\n",
    "for i in d1.keys():\n",
    "    for j in d2.keys():\n",
    "        if i==j:\n",
    "            res[i]=d1.get(i)+d2.get(j)\n",
    "        else:\n",
    "            if i not in res.keys():\n",
    "                if j not in res.keys():\n",
    "                    res[i]=d1.get(i)\n",
    "                    res[j]=d2.get(j)\n",
    "print(res)\n",
    "        \n"
   ]
  },
  {
   "cell_type": "code",
   "execution_count": 16,
   "id": "34c5c130",
   "metadata": {},
   "outputs": [
    {
     "data": {
      "text/plain": [
       "[9000, 4000, 1000]"
      ]
     },
     "execution_count": 16,
     "metadata": {},
     "output_type": "execute_result"
    }
   ],
   "source": [
    "#16. Write a Python program to find the highest 3 values in a dictionary.\n",
    "d={1:9000,4:4000,6:10,5:300,9:1000}\n",
    "desc=sorted(d.values(),reverse=True)\n",
    "desc[0:3]\n"
   ]
  },
  {
   "cell_type": "code",
   "execution_count": 21,
   "id": "c9742c9a",
   "metadata": {},
   "outputs": [
    {
     "name": "stdout",
     "output_type": "stream",
     "text": [
      "key1:1 is present in both x and y\n"
     ]
    }
   ],
   "source": [
    "#17. Write a Python program to match key values in two dictionaries.\n",
    "x={'key1': 1, 'key2': 3, 'key3': 2}\n",
    "y= {'key1': 1, 'key2': 2}\n",
    "for i,xval in x.items():\n",
    "    for j,yval in y.items():\n",
    "        if i==j and xval==yval:\n",
    "            print(f\"{i}:{xval} is present in both x and y\")\n",
    "\n",
    "    \n"
   ]
  },
  {
   "cell_type": "code",
   "execution_count": 28,
   "id": "638a356d",
   "metadata": {},
   "outputs": [
    {
     "name": "stdout",
     "output_type": "stream",
     "text": [
      "False\n"
     ]
    }
   ],
   "source": [
    "#18.Write a Python program to check if all dictionaries in a list are empty or not.\n",
    "d=[{},{},{}]\n",
    "if all(i) in d=={}:\n",
    "    print(True)\n",
    "else:\n",
    "    print(False)\n"
   ]
  },
  {
   "cell_type": "code",
   "execution_count": 12,
   "id": "57a6951f",
   "metadata": {},
   "outputs": [
    {
     "name": "stdout",
     "output_type": "stream",
     "text": [
      "False\n"
     ]
    }
   ],
   "source": [
    "#19.Write a Python program to remove duplicates from a list of lists.\n",
    "d=[{1:2},{},{}]\n",
    "for i in d:\n",
    "    if i!={}:\n",
    "        print('False')\n",
    "        break\n",
    "    else:\n",
    "        print('True')\n",
    "        break"
   ]
  },
  {
   "cell_type": "code",
   "execution_count": 33,
   "id": "191f9a7c",
   "metadata": {},
   "outputs": [
    {
     "name": "stdout",
     "output_type": "stream",
     "text": [
      "[400, 600, 10, 20, 30]\n"
     ]
    }
   ],
   "source": [
    "#20.Write a Python program to extend a list without append.\n",
    "dict1=[10,20,30]\n",
    "dict2=[400,600]\n",
    "dict2.extend(dict1)  #method1\n",
    "#a[:0]=b    #method2\n",
    "print(dict2)"
   ]
  },
  {
   "cell_type": "code",
   "execution_count": null,
   "id": "64977445",
   "metadata": {},
   "outputs": [],
   "source": []
  }
 ],
 "metadata": {
  "kernelspec": {
   "display_name": "Python 3 (ipykernel)",
   "language": "python",
   "name": "python3"
  },
  "language_info": {
   "codemirror_mode": {
    "name": "ipython",
    "version": 3
   },
   "file_extension": ".py",
   "mimetype": "text/x-python",
   "name": "python",
   "nbconvert_exporter": "python",
   "pygments_lexer": "ipython3",
   "version": "3.9.13"
  }
 },
 "nbformat": 4,
 "nbformat_minor": 5
}
