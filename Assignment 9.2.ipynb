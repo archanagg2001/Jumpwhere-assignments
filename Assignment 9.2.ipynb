{
 "cells": [
  {
   "cell_type": "code",
   "execution_count": 2,
   "id": "f8cbc1fc",
   "metadata": {},
   "outputs": [
    {
     "name": "stdout",
     "output_type": "stream",
     "text": [
      "_________guess a character:E\n",
      "E_______Eguess a character:F\n",
      "Incorrect\n",
      "You left with 5 chances to guess\n",
      "E_______Eguess a character:F\n",
      "Incorrect\n",
      "You left with 4 chances to guess\n",
      "E_______Eguess a character:E\n",
      "E_______Eguess a character:V\n",
      "EV______Eguess a character:P\n",
      "EV_P____Eguess a character:O\n",
      "EV_PO___Eguess a character:R\n",
      "EV_POR__Eguess a character:T\n",
      "EV_POR_TEguess a character:O\n",
      "EV_POR_TEguess a character:A\n",
      "EVAPORATE You won\n"
     ]
    }
   ],
   "source": [
    "\n",
    "word = (\"EVAPORATE\")\n",
    "guesses = ''\n",
    "turns = 6\n",
    "while turns > 0:         \n",
    "    failed = 0             \n",
    "    for char in word:      \n",
    "        if char in guesses:    \n",
    "            print (char,end=\"\"),    \n",
    "\n",
    "        else:\n",
    "            print (\"_\",end=\"\"),     \n",
    "            failed += 1    \n",
    "    if failed == 0:        \n",
    "        print (\" You won\")\n",
    "        break            \n",
    "    guess = input(\"guess a character:\") \n",
    "    guesses += guess                    \n",
    "    if guess not in word:  \n",
    "        turns -= 1        \n",
    "        print (\"Incorrect\")  \n",
    "        print (\"You left with\", + turns, 'chances to guess' )\n",
    "        if turns == 0:           \n",
    "            print (\"You Lose\"  )"
   ]
  },
  {
   "cell_type": "code",
   "execution_count": null,
   "id": "5dcc7201",
   "metadata": {},
   "outputs": [],
   "source": []
  },
  {
   "cell_type": "code",
   "execution_count": null,
   "id": "7270332a",
   "metadata": {},
   "outputs": [],
   "source": []
  },
  {
   "cell_type": "code",
   "execution_count": null,
   "id": "71974513",
   "metadata": {},
   "outputs": [],
   "source": []
  }
 ],
 "metadata": {
  "kernelspec": {
   "display_name": "Python 3 (ipykernel)",
   "language": "python",
   "name": "python3"
  },
  "language_info": {
   "codemirror_mode": {
    "name": "ipython",
    "version": 3
   },
   "file_extension": ".py",
   "mimetype": "text/x-python",
   "name": "python",
   "nbconvert_exporter": "python",
   "pygments_lexer": "ipython3",
   "version": "3.9.13"
  }
 },
 "nbformat": 4,
 "nbformat_minor": 5
}
