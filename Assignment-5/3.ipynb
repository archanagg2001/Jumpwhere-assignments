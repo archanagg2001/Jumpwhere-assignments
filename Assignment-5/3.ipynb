{
 "cells": [
  {
   "cell_type": "code",
   "execution_count": 24,
   "id": "fc2f6e29",
   "metadata": {},
   "outputs": [],
   "source": [
    "\n",
    "def firstlast(string):\n",
    "    if len(string)<2:\n",
    "        return print(\"Empty string\")\n",
    "    return print(string[:2]+string[-2:])"
   ]
  },
  {
   "cell_type": "code",
   "execution_count": 25,
   "id": "c20abd18",
   "metadata": {},
   "outputs": [
    {
     "name": "stdout",
     "output_type": "stream",
     "text": [
      "thne\n"
     ]
    }
   ],
   "source": [
    "firstlast(\"thisisniceone\")"
   ]
  },
  {
   "cell_type": "code",
   "execution_count": 26,
   "id": "8837dda2",
   "metadata": {},
   "outputs": [
    {
     "name": "stdout",
     "output_type": "stream",
     "text": [
      "abab\n"
     ]
    }
   ],
   "source": [
    "firstlast(\"ab\")"
   ]
  },
  {
   "cell_type": "code",
   "execution_count": 27,
   "id": "52f11eda",
   "metadata": {},
   "outputs": [
    {
     "name": "stdout",
     "output_type": "stream",
     "text": [
      "Empty string\n"
     ]
    }
   ],
   "source": [
    "firstlast(\"f\")"
   ]
  },
  {
   "cell_type": "code",
   "execution_count": null,
   "id": "6df6f759",
   "metadata": {},
   "outputs": [],
   "source": []
  }
 ],
 "metadata": {
  "kernelspec": {
   "display_name": "Python 3 (ipykernel)",
   "language": "python",
   "name": "python3"
  },
  "language_info": {
   "codemirror_mode": {
    "name": "ipython",
    "version": 3
   },
   "file_extension": ".py",
   "mimetype": "text/x-python",
   "name": "python",
   "nbconvert_exporter": "python",
   "pygments_lexer": "ipython3",
   "version": "3.9.13"
  }
 },
 "nbformat": 4,
 "nbformat_minor": 5
}
