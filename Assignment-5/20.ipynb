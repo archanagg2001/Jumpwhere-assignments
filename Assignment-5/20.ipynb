{
 "cells": [
  {
   "cell_type": "code",
   "execution_count": 36,
   "id": "42c5d447",
   "metadata": {},
   "outputs": [
    {
     "name": "stdout",
     "output_type": "stream",
     "text": [
      "['G', 'o', 'd', 'm', 'o', 'r', 'n', 'i', 'n', 'g']\n"
     ]
    }
   ],
   "source": [
    "string=\"Gooooddddmmoorrrnnniiinnngg\"\n",
    "non_consecutive=[]\n",
    "visited_char=None\n",
    "for char in string:\n",
    "    if  char!=visited_char:\n",
    "        non_consecutive.append(char)\n",
    "        visited_char=char\n",
    "print(non_consecutive)"
   ]
  },
  {
   "cell_type": "code",
   "execution_count": null,
   "id": "e7f1af9e",
   "metadata": {},
   "outputs": [],
   "source": []
  }
 ],
 "metadata": {
  "kernelspec": {
   "display_name": "Python 3 (ipykernel)",
   "language": "python",
   "name": "python3"
  },
  "language_info": {
   "codemirror_mode": {
    "name": "ipython",
    "version": 3
   },
   "file_extension": ".py",
   "mimetype": "text/x-python",
   "name": "python",
   "nbconvert_exporter": "python",
   "pygments_lexer": "ipython3",
   "version": "3.9.13"
  }
 },
 "nbformat": 4,
 "nbformat_minor": 5
}
