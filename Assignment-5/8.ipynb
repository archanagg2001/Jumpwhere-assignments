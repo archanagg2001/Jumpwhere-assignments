{
 "cells": [
  {
   "cell_type": "code",
   "execution_count": 50,
   "id": "309f5f3d",
   "metadata": {},
   "outputs": [],
   "source": [
    "def longestWord(list):\n",
    "    max=len(list[0])\n",
    "    for word in list:\n",
    "        if len(word)>=max:\n",
    "            max=len(word)\n",
    "    return max"
   ]
  },
  {
   "cell_type": "code",
   "execution_count": 52,
   "id": "c09b7b59",
   "metadata": {},
   "outputs": [
    {
     "data": {
      "text/plain": [
       "15"
      ]
     },
     "execution_count": 52,
     "metadata": {},
     "output_type": "execute_result"
    }
   ],
   "source": [
    "list=['pink','purple','yellowish white','saffron']\n",
    "longestWord(list1)\n",
    "longestWord(list)\n"
   ]
  },
  {
   "cell_type": "code",
   "execution_count": null,
   "id": "4540d3e1",
   "metadata": {},
   "outputs": [],
   "source": []
  }
 ],
 "metadata": {
  "kernelspec": {
   "display_name": "Python 3 (ipykernel)",
   "language": "python",
   "name": "python3"
  },
  "language_info": {
   "codemirror_mode": {
    "name": "ipython",
    "version": 3
   },
   "file_extension": ".py",
   "mimetype": "text/x-python",
   "name": "python",
   "nbconvert_exporter": "python",
   "pygments_lexer": "ipython3",
   "version": "3.9.13"
  }
 },
 "nbformat": 4,
 "nbformat_minor": 5
}
