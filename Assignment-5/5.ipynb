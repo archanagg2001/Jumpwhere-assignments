{
 "cells": [
  {
   "cell_type": "code",
   "execution_count": 15,
   "id": "60c2c6d4",
   "metadata": {},
   "outputs": [
    {
     "name": "stdout",
     "output_type": "stream",
     "text": [
      "xyc abz\n"
     ]
    }
   ],
   "source": [
    "\n",
    "string1='abc'\n",
    "string2='xyz'\n",
    "print(string2[:2]+string1[-1]+\" \"+ string1[:2]+string2[-1])\n"
   ]
  },
  {
   "cell_type": "code",
   "execution_count": null,
   "id": "98761798",
   "metadata": {},
   "outputs": [],
   "source": []
  }
 ],
 "metadata": {
  "kernelspec": {
   "display_name": "Python 3 (ipykernel)",
   "language": "python",
   "name": "python3"
  },
  "language_info": {
   "codemirror_mode": {
    "name": "ipython",
    "version": 3
   },
   "file_extension": ".py",
   "mimetype": "text/x-python",
   "name": "python",
   "nbconvert_exporter": "python",
   "pygments_lexer": "ipython3",
   "version": "3.9.13"
  }
 },
 "nbformat": 4,
 "nbformat_minor": 5
}
