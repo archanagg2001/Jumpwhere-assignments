{
 "cells": [
  {
   "cell_type": "code",
   "execution_count": 24,
   "id": "bd943814",
   "metadata": {},
   "outputs": [
    {
     "name": "stdout",
     "output_type": "stream",
     "text": [
      "The lyrics is good! The lyrics is poor!\n"
     ]
    }
   ],
   "source": [
    "string='The lyrics is not that poor! The lyrics is poor!'\n",
    "\n",
    "not_index=string.find('not')\n",
    "poor_index=string.find('poor')\n",
    "if not_index<poor_index:\n",
    "    print(string.replace(string[not_index:poor_index+4],'good'))"
   ]
  },
  {
   "cell_type": "code",
   "execution_count": null,
   "id": "3e42f546",
   "metadata": {},
   "outputs": [],
   "source": []
  },
  {
   "cell_type": "code",
   "execution_count": null,
   "id": "bea2c2f6",
   "metadata": {},
   "outputs": [],
   "source": []
  }
 ],
 "metadata": {
  "kernelspec": {
   "display_name": "Python 3 (ipykernel)",
   "language": "python",
   "name": "python3"
  },
  "language_info": {
   "codemirror_mode": {
    "name": "ipython",
    "version": 3
   },
   "file_extension": ".py",
   "mimetype": "text/x-python",
   "name": "python",
   "nbconvert_exporter": "python",
   "pygments_lexer": "ipython3",
   "version": "3.9.13"
  }
 },
 "nbformat": 4,
 "nbformat_minor": 5
}
