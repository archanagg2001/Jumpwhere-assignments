{
 "cells": [
  {
   "cell_type": "code",
   "execution_count": 32,
   "id": "869f522d",
   "metadata": {},
   "outputs": [],
   "source": [
    "def UpperCase(string):\n",
    "    count=0\n",
    "    for i in string[:4]:\n",
    "        if i.isupper()==True:\n",
    "            count+=1\n",
    "    if count>=2:\n",
    "            print(string.upper())    \n",
    "            \n",
    "UpperCase('Scbh')"
   ]
  },
  {
   "cell_type": "code",
   "execution_count": 34,
   "id": "7a66f697",
   "metadata": {},
   "outputs": [],
   "source": [
    "UpperCase('Mangalore')"
   ]
  },
  {
   "cell_type": "code",
   "execution_count": 36,
   "id": "8594a081",
   "metadata": {},
   "outputs": [
    {
     "name": "stdout",
     "output_type": "stream",
     "text": [
      "MANGALORE\n"
     ]
    }
   ],
   "source": [
    "UpperCase('MaNgalore')"
   ]
  },
  {
   "cell_type": "code",
   "execution_count": 37,
   "id": "7dc67fab",
   "metadata": {},
   "outputs": [
    {
     "name": "stdout",
     "output_type": "stream",
     "text": [
      "MANGALORE\n"
     ]
    }
   ],
   "source": [
    "UpperCase('MANGalore')"
   ]
  },
  {
   "cell_type": "code",
   "execution_count": null,
   "id": "c1d737c2",
   "metadata": {},
   "outputs": [],
   "source": []
  }
 ],
 "metadata": {
  "kernelspec": {
   "display_name": "Python 3 (ipykernel)",
   "language": "python",
   "name": "python3"
  },
  "language_info": {
   "codemirror_mode": {
    "name": "ipython",
    "version": 3
   },
   "file_extension": ".py",
   "mimetype": "text/x-python",
   "name": "python",
   "nbconvert_exporter": "python",
   "pygments_lexer": "ipython3",
   "version": "3.9.13"
  }
 },
 "nbformat": 4,
 "nbformat_minor": 5
}
