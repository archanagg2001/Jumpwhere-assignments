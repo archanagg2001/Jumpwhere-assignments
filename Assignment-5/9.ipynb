{
 "cells": [
  {
   "cell_type": "code",
   "execution_count": 20,
   "id": "1f142a58",
   "metadata": {},
   "outputs": [],
   "source": [
    "def removeChar(string,index):\n",
    "    if string!='\\o':\n",
    "        print(string[:index]+string[index+1:])"
   ]
  },
  {
   "cell_type": "code",
   "execution_count": 25,
   "id": "6f6fd2e7",
   "metadata": {},
   "outputs": [
    {
     "name": "stdout",
     "output_type": "stream",
     "text": [
      "abcdfg\n",
      "angalore\n"
     ]
    }
   ],
   "source": [
    "removeChar(\"abcdefg\",4)\n",
    "removeChar(\"Mangalore\",0)\n",
    "\n",
    "\n"
   ]
  },
  {
   "cell_type": "code",
   "execution_count": null,
   "id": "3337bc64",
   "metadata": {},
   "outputs": [],
   "source": []
  },
  {
   "cell_type": "code",
   "execution_count": null,
   "id": "b5d1bc26",
   "metadata": {},
   "outputs": [],
   "source": []
  }
 ],
 "metadata": {
  "kernelspec": {
   "display_name": "Python 3 (ipykernel)",
   "language": "python",
   "name": "python3"
  },
  "language_info": {
   "codemirror_mode": {
    "name": "ipython",
    "version": 3
   },
   "file_extension": ".py",
   "mimetype": "text/x-python",
   "name": "python",
   "nbconvert_exporter": "python",
   "pygments_lexer": "ipython3",
   "version": "3.9.13"
  }
 },
 "nbformat": 4,
 "nbformat_minor": 5
}
