{
 "cells": [
  {
   "cell_type": "code",
   "execution_count": 15,
   "id": "cf900ed8",
   "metadata": {},
   "outputs": [
    {
     "name": "stdout",
     "output_type": "stream",
     "text": [
      "3.15\n"
     ]
    }
   ],
   "source": [
    "\n",
    "decimalNo=3.14555\n",
    "print(round(decimalNo,2))"
   ]
  },
  {
   "cell_type": "code",
   "execution_count": 20,
   "id": "dbb3a57e",
   "metadata": {},
   "outputs": [
    {
     "name": "stdout",
     "output_type": "stream",
     "text": [
      "3.15\n"
     ]
    }
   ],
   "source": [
    "decimalNo=3.14555\n",
    "print(\"%.2f\"%decimalNo)"
   ]
  },
  {
   "cell_type": "code",
   "execution_count": null,
   "id": "9438a0ef",
   "metadata": {},
   "outputs": [],
   "source": []
  }
 ],
 "metadata": {
  "kernelspec": {
   "display_name": "Python 3 (ipykernel)",
   "language": "python",
   "name": "python3"
  },
  "language_info": {
   "codemirror_mode": {
    "name": "ipython",
    "version": 3
   },
   "file_extension": ".py",
   "mimetype": "text/x-python",
   "name": "python",
   "nbconvert_exporter": "python",
   "pygments_lexer": "ipython3",
   "version": "3.9.13"
  }
 },
 "nbformat": 4,
 "nbformat_minor": 5
}
