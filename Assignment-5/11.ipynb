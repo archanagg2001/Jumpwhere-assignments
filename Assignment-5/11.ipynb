{
 "cells": [
  {
   "cell_type": "code",
   "execution_count": 27,
   "id": "0dd624c6",
   "metadata": {},
   "outputs": [
    {
     "name": "stdout",
     "output_type": "stream",
     "text": [
      "emaS\n"
     ]
    }
   ],
   "source": [
    "def revString(input):\n",
    "    if len(input)%4==0:\n",
    "        print(input[::-1])\n",
    "    else:\n",
    "        print(' length of the string is not the multiple of 4')\n",
    "revString('Same')"
   ]
  },
  {
   "cell_type": "code",
   "execution_count": 28,
   "id": "0bf51832",
   "metadata": {},
   "outputs": [
    {
     "name": "stdout",
     "output_type": "stream",
     "text": [
      " length of the string is not the multiple of 4\n"
     ]
    }
   ],
   "source": [
    "revString('Mangalore')"
   ]
  },
  {
   "cell_type": "code",
   "execution_count": null,
   "id": "6837ddef",
   "metadata": {},
   "outputs": [],
   "source": []
  }
 ],
 "metadata": {
  "kernelspec": {
   "display_name": "Python 3 (ipykernel)",
   "language": "python",
   "name": "python3"
  },
  "language_info": {
   "codemirror_mode": {
    "name": "ipython",
    "version": 3
   },
   "file_extension": ".py",
   "mimetype": "text/x-python",
   "name": "python",
   "nbconvert_exporter": "python",
   "pygments_lexer": "ipython3",
   "version": "3.9.13"
  }
 },
 "nbformat": 4,
 "nbformat_minor": 5
}
