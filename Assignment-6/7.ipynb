{
 "cells": [
  {
   "cell_type": "code",
   "execution_count": 7,
   "id": "90b0f65a",
   "metadata": {},
   "outputs": [
    {
     "name": "stdout",
     "output_type": "stream",
     "text": [
      "number of elements greater than 30 : 8\n"
     ]
    }
   ],
   "source": [
    "list=[1,2,30,35,57,99,44,30,55,1,0,33,55,88]\n",
    "count=0\n",
    "for i in list:\n",
    "    if i>30:\n",
    "        count+=1\n",
    "print(\"number of elements greater than 30 :\",count)"
   ]
  },
  {
   "cell_type": "code",
   "execution_count": null,
   "id": "29fe6bff",
   "metadata": {},
   "outputs": [],
   "source": []
  }
 ],
 "metadata": {
  "kernelspec": {
   "display_name": "Python 3 (ipykernel)",
   "language": "python",
   "name": "python3"
  },
  "language_info": {
   "codemirror_mode": {
    "name": "ipython",
    "version": 3
   },
   "file_extension": ".py",
   "mimetype": "text/x-python",
   "name": "python",
   "nbconvert_exporter": "python",
   "pygments_lexer": "ipython3",
   "version": "3.9.13"
  }
 },
 "nbformat": 4,
 "nbformat_minor": 5
}
