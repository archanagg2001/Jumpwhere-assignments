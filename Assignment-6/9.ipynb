{
 "cells": [
  {
   "cell_type": "code",
   "execution_count": 3,
   "id": "d6a9bfbb",
   "metadata": {},
   "outputs": [
    {
     "name": "stdout",
     "output_type": "stream",
     "text": [
      "Enter the purchased quantity 40\n",
      "Since cost is 4000 ,10% discount is offered and the Final cost is 400.0\n"
     ]
    }
   ],
   "source": [
    "\n",
    "quantity=int(input(\"Enter the purchased quantity \"))\n",
    "cost=quantity*100\n",
    "if quantity>10:\n",
    "    discount=(10/100)*cost\n",
    "    print(f\"Since cost is {cost} ,10% discount is offered and the Final cost is {discount}\")\n",
    "else:\n",
    "    print(\"Cost of the items:\",cost)\n"
   ]
  },
  {
   "cell_type": "code",
   "execution_count": null,
   "id": "ed383ce6",
   "metadata": {},
   "outputs": [],
   "source": []
  }
 ],
 "metadata": {
  "kernelspec": {
   "display_name": "Python 3 (ipykernel)",
   "language": "python",
   "name": "python3"
  },
  "language_info": {
   "codemirror_mode": {
    "name": "ipython",
    "version": 3
   },
   "file_extension": ".py",
   "mimetype": "text/x-python",
   "name": "python",
   "nbconvert_exporter": "python",
   "pygments_lexer": "ipython3",
   "version": "3.9.13"
  }
 },
 "nbformat": 4,
 "nbformat_minor": 5
}
