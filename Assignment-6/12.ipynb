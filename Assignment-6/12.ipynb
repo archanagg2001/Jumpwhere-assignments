{
 "cells": [
  {
   "cell_type": "code",
   "execution_count": 2,
   "id": "04cb0d69",
   "metadata": {},
   "outputs": [
    {
     "name": "stdout",
     "output_type": "stream",
     "text": [
      "Enter the number of classes held(enter 0 to exit):50\n",
      "Enter the number of class attended50\n",
      "Your attendence is 100.0%\n",
      "You are allowed to write the exam\n",
      "Enter the number of classes held(enter 0 to exit):50\n",
      "Enter the number of class attended20\n",
      "Your attendence is 40.0%\n",
      "You are not allowed to write the exam.\n",
      "Enter the number of classes held(enter 0 to exit):0\n",
      "Enter the number of class attended0\n"
     ]
    }
   ],
   "source": [
    "while(1):\n",
    "    ClassHeld=int(input(\"Enter the number of classes held(enter 0 to exit):\"))\n",
    "    ClassAttended=int(input(\"Enter the number of class attended\"))\n",
    "    if ClassHeld==0:\n",
    "        break\n",
    "    attendence=ClassAttended/ClassHeld*100\n",
    "    print(f\"Your attendence is {attendence}%\")\n",
    "    if attendence<75:\n",
    "        print(\"You are not allowed to write the exam.\")\n",
    "    else:\n",
    "        print(\"You are allowed to write the exam\")\n",
    "        "
   ]
  },
  {
   "cell_type": "code",
   "execution_count": null,
   "id": "f88df134",
   "metadata": {},
   "outputs": [],
   "source": []
  },
  {
   "cell_type": "code",
   "execution_count": null,
   "id": "df3dc381",
   "metadata": {},
   "outputs": [],
   "source": []
  }
 ],
 "metadata": {
  "kernelspec": {
   "display_name": "Python 3 (ipykernel)",
   "language": "python",
   "name": "python3"
  },
  "language_info": {
   "codemirror_mode": {
    "name": "ipython",
    "version": 3
   },
   "file_extension": ".py",
   "mimetype": "text/x-python",
   "name": "python",
   "nbconvert_exporter": "python",
   "pygments_lexer": "ipython3",
   "version": "3.9.13"
  }
 },
 "nbformat": 4,
 "nbformat_minor": 5
}
