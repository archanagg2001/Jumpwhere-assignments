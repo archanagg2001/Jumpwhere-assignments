{
 "cells": [
  {
   "cell_type": "code",
   "execution_count": 1,
   "id": "e05948d0",
   "metadata": {},
   "outputs": [],
   "source": [
    "def bonus(salary,yearOfService):\n",
    "    if yearOfService>5:\n",
    "        bonus=0.05*salary\n",
    "        print(\"Net bonus is \",bonus)\n",
    "    else:\n",
    "        print(\"Sorry bonus is not provided\")"
   ]
  },
  {
   "cell_type": "code",
   "execution_count": 2,
   "id": "d8f28b88",
   "metadata": {},
   "outputs": [
    {
     "name": "stdout",
     "output_type": "stream",
     "text": [
      "Enter the salaray 400000\n",
      "Enter the year of service 9\n",
      "Net bonus is  20000.0\n"
     ]
    }
   ],
   "source": [
    "salary=int(input(\"Enter the salaray \"))\n",
    "yearOfService=int(input(\"Enter the year of service \"))\n",
    "bonus(salary,yearOfService)"
   ]
  },
  {
   "cell_type": "code",
   "execution_count": 5,
   "id": "ed17bab4",
   "metadata": {},
   "outputs": [
    {
     "name": "stdout",
     "output_type": "stream",
     "text": [
      "Enter the salaray 300000\n",
      "Enter the year of service 2\n",
      "Sorry bonus is not provided\n"
     ]
    }
   ],
   "source": [
    "salary=int(input(\"Enter the salaray \"))\n",
    "yearOfService=int(input(\"Enter the year of service \"))\n",
    "bonus(salary,yearOfService)"
   ]
  },
  {
   "cell_type": "code",
   "execution_count": null,
   "id": "713e507a",
   "metadata": {},
   "outputs": [],
   "source": []
  }
 ],
 "metadata": {
  "kernelspec": {
   "display_name": "Python 3 (ipykernel)",
   "language": "python",
   "name": "python3"
  },
  "language_info": {
   "codemirror_mode": {
    "name": "ipython",
    "version": 3
   },
   "file_extension": ".py",
   "mimetype": "text/x-python",
   "name": "python",
   "nbconvert_exporter": "python",
   "pygments_lexer": "ipython3",
   "version": "3.9.13"
  }
 },
 "nbformat": 4,
 "nbformat_minor": 5
}
