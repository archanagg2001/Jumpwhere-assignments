{
 "cells": [
  {
   "cell_type": "code",
   "execution_count": 5,
   "id": "21aad2d8",
   "metadata": {},
   "outputs": [
    {
     "name": "stdout",
     "output_type": "stream",
     "text": [
      "Enter the number:3\n",
      "Enter the number:5\n",
      "Enter the number:6\n",
      "Enter the number:7\n",
      "Enter the number:8\n",
      "Enter the number:9\n",
      "Enter the number:4\n",
      "Enter the number:5\n",
      "Enter the number:7\n",
      "Enter the number:4\n",
      "Average of the entered number is:  5.8\n"
     ]
    }
   ],
   "source": [
    "count=0\n",
    "sum=0\n",
    "while count!=10:\n",
    "    number= int(input(\"Enter the number:\"))\n",
    "    sum+=number\n",
    "    count+=1\n",
    "print(\"Average of the entered number is: \",sum/count)\n",
    "    "
   ]
  },
  {
   "cell_type": "markdown",
   "id": "7f319295",
   "metadata": {},
   "source": []
  }
 ],
 "metadata": {
  "kernelspec": {
   "display_name": "Python 3 (ipykernel)",
   "language": "python",
   "name": "python3"
  },
  "language_info": {
   "codemirror_mode": {
    "name": "ipython",
    "version": 3
   },
   "file_extension": ".py",
   "mimetype": "text/x-python",
   "name": "python",
   "nbconvert_exporter": "python",
   "pygments_lexer": "ipython3",
   "version": "3.9.13"
  }
 },
 "nbformat": 4,
 "nbformat_minor": 5
}
