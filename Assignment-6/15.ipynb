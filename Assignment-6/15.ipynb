{
 "cells": [
  {
   "cell_type": "code",
   "execution_count": 5,
   "id": "9d0fd477",
   "metadata": {},
   "outputs": [
    {
     "name": "stdout",
     "output_type": "stream",
     "text": [
      "Enter the integer (Press 'q' to quit) 1\n",
      "Enter the integer (Press 'q' to quit) 2\n",
      "Enter the integer (Press 'q' to quit) 3\n",
      "Enter the integer (Press 'q' to quit) q\n",
      "Average is 2.0 ,product is 6\n"
     ]
    }
   ],
   "source": [
    "\n",
    "sum=0\n",
    "count=0\n",
    "number=0\n",
    "product=1\n",
    "while(number!='q'):\n",
    "    number=input(\"Enter the integer (Press 'q' to quit) \")\n",
    "    if number=='q':\n",
    "        break\n",
    "    else:\n",
    "        sum+=int(number)\n",
    "        count+=1\n",
    "        product*=int(number)\n",
    "print(f\"Average is {sum/count} ,product is {product}\")\n",
    "    "
   ]
  },
  {
   "cell_type": "markdown",
   "id": "5451e618",
   "metadata": {},
   "source": []
  }
 ],
 "metadata": {
  "kernelspec": {
   "display_name": "Python 3 (ipykernel)",
   "language": "python",
   "name": "python3"
  },
  "language_info": {
   "codemirror_mode": {
    "name": "ipython",
    "version": 3
   },
   "file_extension": ".py",
   "mimetype": "text/x-python",
   "name": "python",
   "nbconvert_exporter": "python",
   "pygments_lexer": "ipython3",
   "version": "3.9.13"
  }
 },
 "nbformat": 4,
 "nbformat_minor": 5
}
