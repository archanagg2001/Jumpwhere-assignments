{
 "cells": [
  {
   "cell_type": "code",
   "execution_count": 4,
   "id": "4c6f4b4e",
   "metadata": {},
   "outputs": [
    {
     "name": "stdout",
     "output_type": "stream",
     "text": [
      "Multiplication table of 24 \n",
      "24*1= 24\n",
      "24*2= 48\n",
      "24*3= 72\n",
      "24*4= 96\n",
      "24*5= 120\n",
      "24*6= 144\n",
      "24*7= 168\n",
      "24*8= 192\n",
      "24*9= 216\n",
      "24*10= 240\n"
     ]
    }
   ],
   "source": [
    "print('Multiplication table of 24 ')\n",
    "for i in range(1,11):\n",
    "    print(f\"24*{i}=\",24*i)"
   ]
  },
  {
   "cell_type": "code",
   "execution_count": 5,
   "id": "d70e7fb7",
   "metadata": {},
   "outputs": [
    {
     "name": "stdout",
     "output_type": "stream",
     "text": [
      "Multiplication table of 50 \n",
      "50*1= 50\n",
      "50*2= 100\n",
      "50*3= 150\n",
      "50*4= 200\n",
      "50*5= 250\n",
      "50*6= 300\n",
      "50*7= 350\n",
      "50*8= 400\n",
      "50*9= 450\n",
      "50*10= 500\n"
     ]
    }
   ],
   "source": [
    "print('Multiplication table of 50 ')\n",
    "for i in range(1,11):\n",
    "    print(f\"50*{i}=\",50*i)"
   ]
  },
  {
   "cell_type": "code",
   "execution_count": 6,
   "id": "15a49f8b",
   "metadata": {},
   "outputs": [
    {
     "name": "stdout",
     "output_type": "stream",
     "text": [
      "Multiplication table of 29 \n",
      "29*1= 29\n",
      "29*2= 58\n",
      "29*3= 87\n",
      "29*4= 116\n",
      "29*5= 145\n",
      "29*6= 174\n",
      "29*7= 203\n",
      "29*8= 232\n",
      "29*9= 261\n",
      "29*10= 290\n"
     ]
    }
   ],
   "source": [
    "print('Multiplication table of 29 ')\n",
    "for i in range(1,11):\n",
    "    print(f\"29*{i}=\",29*i)"
   ]
  },
  {
   "cell_type": "code",
   "execution_count": null,
   "id": "89d2a530",
   "metadata": {},
   "outputs": [],
   "source": []
  }
 ],
 "metadata": {
  "kernelspec": {
   "display_name": "Python 3 (ipykernel)",
   "language": "python",
   "name": "python3"
  },
  "language_info": {
   "codemirror_mode": {
    "name": "ipython",
    "version": 3
   },
   "file_extension": ".py",
   "mimetype": "text/x-python",
   "name": "python",
   "nbconvert_exporter": "python",
   "pygments_lexer": "ipython3",
   "version": "3.9.13"
  }
 },
 "nbformat": 4,
 "nbformat_minor": 5
}
