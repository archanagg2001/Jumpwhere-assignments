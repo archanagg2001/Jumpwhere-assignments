{
 "cells": [
  {
   "cell_type": "code",
   "execution_count": 2,
   "id": "8036aec9",
   "metadata": {},
   "outputs": [
    {
     "name": "stdout",
     "output_type": "stream",
     "text": [
      "['monday', 'hello'] [1, 2] [5.6, 4.4]\n"
     ]
    }
   ],
   "source": [
    "list=[1,'monday',2,5.6,'hello',4.4]\n",
    "string=[]\n",
    "floatPoint=[]\n",
    "integer=[]\n",
    "for i in list:\n",
    "    if type(i)==int:\n",
    "        integer.append(i)\n",
    "    elif type(i)==float:\n",
    "        floatPoint.append(i)\n",
    "    elif type(i)==str:\n",
    "        string.append(i)\n",
    "print(string,integer,floatPoint)   "
   ]
  },
  {
   "cell_type": "code",
   "execution_count": null,
   "id": "089207d9",
   "metadata": {},
   "outputs": [],
   "source": []
  }
 ],
 "metadata": {
  "kernelspec": {
   "display_name": "Python 3 (ipykernel)",
   "language": "python",
   "name": "python3"
  },
  "language_info": {
   "codemirror_mode": {
    "name": "ipython",
    "version": 3
   },
   "file_extension": ".py",
   "mimetype": "text/x-python",
   "name": "python",
   "nbconvert_exporter": "python",
   "pygments_lexer": "ipython3",
   "version": "3.9.13"
  }
 },
 "nbformat": 4,
 "nbformat_minor": 5
}
