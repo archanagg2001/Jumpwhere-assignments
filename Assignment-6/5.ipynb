{
 "cells": [
  {
   "cell_type": "code",
   "execution_count": 14,
   "id": "4d0a05d6",
   "metadata": {},
   "outputs": [
    {
     "name": "stdout",
     "output_type": "stream",
     "text": [
      " 1\n",
      " 4\n",
      " 5\n",
      " 7\n",
      " 0\n",
      "The sum is:17 and the average:3\n"
     ]
    }
   ],
   "source": [
    "count=0\n",
    "sum=0\n",
    "inputNumber=1\n",
    "while inputNumber!=0:\n",
    "    inputNumber=int(input(\" \"))\n",
    "    sum+=inputNumber\n",
    "    count+=1\n",
    "print(f\"The sum is:{sum} and the average:{sum//count}\")"
   ]
  },
  {
   "cell_type": "code",
   "execution_count": null,
   "id": "2bea2ea9",
   "metadata": {},
   "outputs": [],
   "source": [
    "\n",
    "    "
   ]
  },
  {
   "cell_type": "code",
   "execution_count": null,
   "id": "b888960b",
   "metadata": {},
   "outputs": [],
   "source": []
  }
 ],
 "metadata": {
  "kernelspec": {
   "display_name": "Python 3 (ipykernel)",
   "language": "python",
   "name": "python3"
  },
  "language_info": {
   "codemirror_mode": {
    "name": "ipython",
    "version": 3
   },
   "file_extension": ".py",
   "mimetype": "text/x-python",
   "name": "python",
   "nbconvert_exporter": "python",
   "pygments_lexer": "ipython3",
   "version": "3.9.13"
  }
 },
 "nbformat": 4,
 "nbformat_minor": 5
}
