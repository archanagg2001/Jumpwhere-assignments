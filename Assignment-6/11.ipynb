{
 "cells": [
  {
   "cell_type": "code",
   "execution_count": 12,
   "id": "7695cd70",
   "metadata": {},
   "outputs": [],
   "source": [
    "def grade(marks):\n",
    "    if marks>=25 and marks<=45:\n",
    "        print(\"Grade is:E\")\n",
    "    elif marks>=45 and marks<=50:\n",
    "        print(\"Grade is:D\")\n",
    "    elif marks>=50 and marks<=60:\n",
    "        print(\"Grade is:C\")\n",
    "    elif marks>=60 and marks<=80:\n",
    "        prnit(\"Grade is:B\")\n",
    "    elif marks>80:\n",
    "        print(\"Grade is:A\")\n",
    "    else:\n",
    "        print(\"Grade is:F\")"
   ]
  },
  {
   "cell_type": "code",
   "execution_count": 13,
   "id": "cad5bad5",
   "metadata": {},
   "outputs": [
    {
     "name": "stdout",
     "output_type": "stream",
     "text": [
      "Grade is:A\n"
     ]
    }
   ],
   "source": [
    "grade(99)"
   ]
  },
  {
   "cell_type": "code",
   "execution_count": 14,
   "id": "1bb0461f",
   "metadata": {},
   "outputs": [
    {
     "name": "stdout",
     "output_type": "stream",
     "text": [
      "Grade is:E\n"
     ]
    }
   ],
   "source": [
    "grade(35)"
   ]
  },
  {
   "cell_type": "code",
   "execution_count": 15,
   "id": "a6e437b5",
   "metadata": {},
   "outputs": [
    {
     "name": "stdout",
     "output_type": "stream",
     "text": [
      "Grade is:F\n"
     ]
    }
   ],
   "source": [
    "grade(15)"
   ]
  },
  {
   "cell_type": "code",
   "execution_count": null,
   "id": "dfc6d48e",
   "metadata": {},
   "outputs": [],
   "source": []
  }
 ],
 "metadata": {
  "kernelspec": {
   "display_name": "Python 3 (ipykernel)",
   "language": "python",
   "name": "python3"
  },
  "language_info": {
   "codemirror_mode": {
    "name": "ipython",
    "version": 3
   },
   "file_extension": ".py",
   "mimetype": "text/x-python",
   "name": "python",
   "nbconvert_exporter": "python",
   "pygments_lexer": "ipython3",
   "version": "3.9.13"
  }
 },
 "nbformat": 4,
 "nbformat_minor": 5
}
