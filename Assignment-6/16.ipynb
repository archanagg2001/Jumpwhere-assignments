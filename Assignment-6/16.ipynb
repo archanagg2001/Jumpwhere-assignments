{
 "cells": [
  {
   "cell_type": "code",
   "execution_count": 8,
   "id": "587f4060",
   "metadata": {},
   "outputs": [
    {
     "name": "stdout",
     "output_type": "stream",
     "text": [
      "enter the number 3 4 5 6\n",
      "enter the item to delete 5\n",
      "['3', '4', '6']\n"
     ]
    }
   ],
   "source": [
    "number=input(\"enter the number \").split()\n",
    "item=input(\"enter the item to delete \")\n",
    "if item in number:\n",
    "    number.remove(item)\n",
    "print(number)\n"
   ]
  },
  {
   "cell_type": "code",
   "execution_count": 9,
   "id": "1c1e8aab",
   "metadata": {},
   "outputs": [
    {
     "name": "stdout",
     "output_type": "stream",
     "text": [
      "enter the number 4 5 6 7\n",
      "enter the item to delete 6\n",
      "['4', '5', '7']\n"
     ]
    }
   ],
   "source": [
    "number=input(\"enter the number \").split()\n",
    "item=input(\"enter the item to delete \")\n",
    "arr=[]\n",
    "a=0\n",
    "if item in number:\n",
    "    for i in number:\n",
    "        if i!=item:\n",
    "            arr.append(i)\n",
    "print(arr)"
   ]
  },
  {
   "cell_type": "code",
   "execution_count": null,
   "id": "f370a836",
   "metadata": {},
   "outputs": [],
   "source": []
  }
 ],
 "metadata": {
  "kernelspec": {
   "display_name": "Python 3 (ipykernel)",
   "language": "python",
   "name": "python3"
  },
  "language_info": {
   "codemirror_mode": {
    "name": "ipython",
    "version": 3
   },
   "file_extension": ".py",
   "mimetype": "text/x-python",
   "name": "python",
   "nbconvert_exporter": "python",
   "pygments_lexer": "ipython3",
   "version": "3.9.13"
  }
 },
 "nbformat": 4,
 "nbformat_minor": 5
}
