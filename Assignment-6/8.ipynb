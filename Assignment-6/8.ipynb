{
 "cells": [
  {
   "cell_type": "code",
   "execution_count": 4,
   "id": "ee28d25e",
   "metadata": {},
   "outputs": [
    {
     "name": "stdout",
     "output_type": "stream",
     "text": [
      "Enter the lenght of rectangle : 40\n",
      "Enter the breadth of rectangle: 40\n",
      "It's a Square\n"
     ]
    }
   ],
   "source": [
    "length=int(input(\"Enter the lenght of rectangle : \"))\n",
    "breadth=int(input(\"Enter the breadth of rectangle: \"))\n",
    "if length==breadth:\n",
    "    print(\"It's a Square\")\n",
    "else:\n",
    "    print(\"It's not a square\")\n"
   ]
  },
  {
   "cell_type": "code",
   "execution_count": null,
   "id": "2d86e80d",
   "metadata": {},
   "outputs": [],
   "source": []
  },
  {
   "cell_type": "code",
   "execution_count": null,
   "id": "fb3d1617",
   "metadata": {},
   "outputs": [],
   "source": []
  },
  {
   "cell_type": "code",
   "execution_count": null,
   "id": "145f9c01",
   "metadata": {},
   "outputs": [],
   "source": []
  }
 ],
 "metadata": {
  "kernelspec": {
   "display_name": "Python 3 (ipykernel)",
   "language": "python",
   "name": "python3"
  },
  "language_info": {
   "codemirror_mode": {
    "name": "ipython",
    "version": 3
   },
   "file_extension": ".py",
   "mimetype": "text/x-python",
   "name": "python",
   "nbconvert_exporter": "python",
   "pygments_lexer": "ipython3",
   "version": "3.9.13"
  }
 },
 "nbformat": 4,
 "nbformat_minor": 5
}
