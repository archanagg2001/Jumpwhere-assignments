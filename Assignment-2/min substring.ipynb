{
 "cells": [
  {
   "cell_type": "code",
   "execution_count": 44,
   "id": "fd1c4cde",
   "metadata": {},
   "outputs": [],
   "source": [
    "from collections import Counter\n",
    "def contains_all(freq1,freq2):\n",
    "    for ch in freq2:\n",
    "        if freq1[ch]<freq2[ch]:\n",
    "            return False\n",
    "    return True\n",
    "\n",
    "def min_window(s,t):\n",
    "    n,m=len(s),len(t)\n",
    "    if m>n or m==0:\n",
    "        return \"\"\n",
    "    freqt=Counter(t)\n",
    "    shortest=\" \"*(n+1)\n",
    "    for length in range(1,n+1):\n",
    "        for i in range(n-length+1):\n",
    "            sub=s[i:i+length]\n",
    "            freqs=Counter(sub)\n",
    "            if contains_all(freqs,freqt) and length<len(shortest):\n",
    "                shortest=sub\n",
    "    return shortest if len(shortest)<=n else \"\""
   ]
  },
  {
   "cell_type": "code",
   "execution_count": 45,
   "id": "9628e6d7",
   "metadata": {},
   "outputs": [
    {
     "name": "stdout",
     "output_type": "stream",
     "text": [
      "CEABEBA\n"
     ]
    }
   ],
   "source": [
    "s=\"ADCFEBECEABEBADFCDFCBFCBEAD\"\n",
    "t=\"ABCA\"\n",
    "result=min_window(s,t)\n",
    "print(result)"
   ]
  },
  {
   "cell_type": "code",
   "execution_count": null,
   "id": "6c579400",
   "metadata": {},
   "outputs": [],
   "source": []
  },
  {
   "cell_type": "code",
   "execution_count": 78,
   "id": "8ed50f28",
   "metadata": {},
   "outputs": [],
   "source": [
    "def min_window(s, t):\n",
    "    n, m = len(s), len(t)\n",
    "    if m > n or t == \"\":\n",
    "        return \"\"\n",
    "    freqt = Counter(t)\n",
    "    start, end = 0, n\n",
    "    satisfied = 0\n",
    "    freqs = Counter()\n",
    "    left = 0\n",
    "    for right in range(n):\n",
    "        freqs[s[right]] += 1\n",
    "        if s[right] in freqt and freqs[s[right]] == freqt[s[right]]:\n",
    "            satisfied += 1\n",
    "        if satisfied == len(freqt):\n",
    "            while s[left] not in freqt or freqs[s[left]] > freqt[s[left]]:\n",
    "                freqs[s[left]] -= 1\n",
    "                left += 1\n",
    "            if right-left+1 < end-start+1:\n",
    "                start, end = left, right\n",
    "    return s[start:end+1] if end-start+1 <= n else \"\"\n"
   ]
  },
  {
   "cell_type": "code",
   "execution_count": 79,
   "id": "0faf85d8",
   "metadata": {},
   "outputs": [
    {
     "name": "stdout",
     "output_type": "stream",
     "text": [
      "CEABEBA\n"
     ]
    }
   ],
   "source": [
    "s=\"ADCFEBECEABEBADFCDFCBFCBEAD\"\n",
    "t=\"ABCA\"\n",
    "result=min_window(s,t)\n",
    "print(result)"
   ]
  },
  {
   "cell_type": "code",
   "execution_count": 65,
   "id": "8aacd0c9",
   "metadata": {},
   "outputs": [],
   "source": []
  },
  {
   "cell_type": "code",
   "execution_count": null,
   "id": "5c83ac3b",
   "metadata": {},
   "outputs": [],
   "source": []
  }
 ],
 "metadata": {
  "kernelspec": {
   "display_name": "Python 3 (ipykernel)",
   "language": "python",
   "name": "python3"
  },
  "language_info": {
   "codemirror_mode": {
    "name": "ipython",
    "version": 3
   },
   "file_extension": ".py",
   "mimetype": "text/x-python",
   "name": "python",
   "nbconvert_exporter": "python",
   "pygments_lexer": "ipython3",
   "version": "3.9.13"
  }
 },
 "nbformat": 4,
 "nbformat_minor": 5
}
