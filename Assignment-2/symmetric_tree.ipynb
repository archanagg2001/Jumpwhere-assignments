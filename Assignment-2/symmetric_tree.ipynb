{
 "cells": [
  {
   "cell_type": "code",
   "execution_count": 1,
   "id": "b6f77c12",
   "metadata": {},
   "outputs": [],
   "source": [
    "def are_symmetric(root1,root2):\n",
    "    if root1 is None and root2 is None:\n",
    "        return True\n",
    "    elif((root1 is None)!=(root2 is None)) or root1.val!=root2.val:\n",
    "        return False\n",
    "    else:\n",
    "        return are_symmetric(root1.left.root.right) and are_symmetric(root1.right,root2.left)\n",
    "def is_symetric(root):\n",
    "    if root is None:\n",
    "        return True\n",
    "    return are_symmetric(root.left,root.right)"
   ]
  },
  {
   "cell_type": "code",
   "execution_count": null,
   "id": "20922c40",
   "metadata": {},
   "outputs": [],
   "source": []
  }
 ],
 "metadata": {
  "kernelspec": {
   "display_name": "Python 3 (ipykernel)",
   "language": "python",
   "name": "python3"
  },
  "language_info": {
   "codemirror_mode": {
    "name": "ipython",
    "version": 3
   },
   "file_extension": ".py",
   "mimetype": "text/x-python",
   "name": "python",
   "nbconvert_exporter": "python",
   "pygments_lexer": "ipython3",
   "version": "3.9.13"
  }
 },
 "nbformat": 4,
 "nbformat_minor": 5
}
