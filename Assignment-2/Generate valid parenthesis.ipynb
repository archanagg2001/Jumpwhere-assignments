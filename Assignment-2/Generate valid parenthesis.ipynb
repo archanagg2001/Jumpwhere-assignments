{
 "cells": [
  {
   "cell_type": "code",
   "execution_count": 3,
   "id": "e5ba1e13",
   "metadata": {},
   "outputs": [
    {
     "name": "stdout",
     "output_type": "stream",
     "text": [
      "['((()))', '(()())', '(())()', '()(())', '()()()']\n"
     ]
    }
   ],
   "source": [
    "def generate(n):\n",
    "    def rec(n,diff,comb,combs):\n",
    "        if diff<0:\n",
    "            return\n",
    "        elif n==0:\n",
    "            if diff==0:\n",
    "                combs.append(''.join(comb))\n",
    "        else:\n",
    "            comb.append('(')\n",
    "            rec(n-1,diff+1,comb,combs)\n",
    "            comb.pop()\n",
    "            comb.append(')')\n",
    "            rec(n-1,diff-1,comb,combs)\n",
    "            comb.pop()\n",
    "    combs=[]\n",
    "    rec(2*n,0,[],combs)\n",
    "    return combs\n",
    "result=generate(3)\n",
    "print(result)\n",
    "\n"
   ]
  },
  {
   "cell_type": "code",
   "execution_count": 4,
   "id": "3561d337",
   "metadata": {},
   "outputs": [
    {
     "name": "stdout",
     "output_type": "stream",
     "text": [
      "True\n"
     ]
    }
   ],
   "source": [
    "\n",
    "def is_valid(combination):\n",
    "    diff=0\n",
    "    for par in combination:\n",
    "        for p in par:\n",
    "            if p=='(':\n",
    "                diff+=1\n",
    "            else:\n",
    "                diff-=1\n",
    "    return diff==0\n",
    "res=is_valid(result)\n",
    "print(res)  \n",
    "    "
   ]
  },
  {
   "cell_type": "code",
   "execution_count": null,
   "id": "20910f28",
   "metadata": {},
   "outputs": [],
   "source": []
  }
 ],
 "metadata": {
  "kernelspec": {
   "display_name": "Python 3 (ipykernel)",
   "language": "python",
   "name": "python3"
  },
  "language_info": {
   "codemirror_mode": {
    "name": "ipython",
    "version": 3
   },
   "file_extension": ".py",
   "mimetype": "text/x-python",
   "name": "python",
   "nbconvert_exporter": "python",
   "pygments_lexer": "ipython3",
   "version": "3.9.13"
  }
 },
 "nbformat": 4,
 "nbformat_minor": 5
}
