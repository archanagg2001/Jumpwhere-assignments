{
 "cells": [
  {
   "cell_type": "code",
   "execution_count": 24,
   "id": "baaf90d9",
   "metadata": {},
   "outputs": [],
   "source": [
    "def gas_station(gas,cost):\n",
    "    remaining=0\n",
    "    candidate=0\n",
    "    for i in range(len(gas)):\n",
    "        remaining+=gas[i]-cost[i]\n",
    "        if remaining<0:\n",
    "            candidate=i+1\n",
    "            remaining=0\n",
    "            prev_remaining=sum(gas[:candidate])-sum(cost[:candidate])\n",
    "    if candidate==len(gas) or remaining+prev_remaining<0:\n",
    "        return -1\n",
    "    else:\n",
    "        return candidate"
   ]
  },
  {
   "cell_type": "code",
   "execution_count": 26,
   "id": "8594c098",
   "metadata": {},
   "outputs": [
    {
     "name": "stdout",
     "output_type": "stream",
     "text": [
      "8\n"
     ]
    }
   ],
   "source": [
    "gas=[1,5,3,3,5,3,1,3,4,5]\n",
    "cost=[5,2,2,8,2,4,2,5,1,2]\n",
    "result=gas_station(gas,cost)\n",
    "print(result)"
   ]
  },
  {
   "cell_type": "code",
   "execution_count": null,
   "id": "640d4388",
   "metadata": {},
   "outputs": [],
   "source": []
  },
  {
   "cell_type": "code",
   "execution_count": null,
   "id": "34631a4e",
   "metadata": {},
   "outputs": [],
   "source": []
  },
  {
   "cell_type": "code",
   "execution_count": null,
   "id": "216b8a6e",
   "metadata": {},
   "outputs": [],
   "source": []
  }
 ],
 "metadata": {
  "kernelspec": {
   "display_name": "Python 3 (ipykernel)",
   "language": "python",
   "name": "python3"
  },
  "language_info": {
   "codemirror_mode": {
    "name": "ipython",
    "version": 3
   },
   "file_extension": ".py",
   "mimetype": "text/x-python",
   "name": "python",
   "nbconvert_exporter": "python",
   "pygments_lexer": "ipython3",
   "version": "3.9.13"
  }
 },
 "nbformat": 4,
 "nbformat_minor": 5
}
