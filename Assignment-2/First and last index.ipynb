{
 "cells": [
  {
   "cell_type": "code",
   "execution_count": 3,
   "id": "0f39de30",
   "metadata": {},
   "outputs": [
    {
     "name": "stdout",
     "output_type": "stream",
     "text": [
      "Fisrst index=  2\n",
      "Last index=  6\n"
     ]
    }
   ],
   "source": [
    "def find_start(arr,target):\n",
    "    if arr[0]==target:\n",
    "        return 0\n",
    "    left,right=0,len(arr)-1\n",
    "    while left<=right:\n",
    "        mid=(left+right)//2\n",
    "        if arr[mid]==target and arr[mid-1]<target:\n",
    "            return mid\n",
    "        elif arr[mid]<target:\n",
    "            left=mid+1\n",
    "        else:\n",
    "            right=mid-1\n",
    "    return -1\n",
    "def find_end(arr,target):\n",
    "    if arr[-1]==target:\n",
    "        return len(arr)-1\n",
    "    left,right=0,len(arr)-1\n",
    "    while left<=right:\n",
    "        mid=(left+right)//2\n",
    "        if arr[mid]==target and arr[mid+1]>target:\n",
    "            return mid\n",
    "        elif arr[mid]>target:\n",
    "            right=mid-1\n",
    "        else:\n",
    "            left=mid+1\n",
    "    return -1\n",
    "def first_and_last(arr,target):\n",
    "    if len(arr)==0|arr[0]>target| arr[-1]<target:\n",
    "        return [-1,-1]\n",
    "    start=find_start(arr,target)\n",
    "    end=find_end(arr,target)\n",
    "    return [start,end]\n",
    "arr=[2,4,5,5,5,5,5,7,9,9]\n",
    "target=5\n",
    "start,end=first_and_last(arr,target)\n",
    "print(\"Fisrst index= \",start)\n",
    "print(\"Last index= \",end)      \n"
   ]
  },
  {
   "cell_type": "code",
   "execution_count": null,
   "id": "27249dcf",
   "metadata": {},
   "outputs": [],
   "source": []
  }
 ],
 "metadata": {
  "kernelspec": {
   "display_name": "Python 3 (ipykernel)",
   "language": "python",
   "name": "python3"
  },
  "language_info": {
   "codemirror_mode": {
    "name": "ipython",
    "version": 3
   },
   "file_extension": ".py",
   "mimetype": "text/x-python",
   "name": "python",
   "nbconvert_exporter": "python",
   "pygments_lexer": "ipython3",
   "version": "3.9.13"
  }
 },
 "nbformat": 4,
 "nbformat_minor": 5
}
