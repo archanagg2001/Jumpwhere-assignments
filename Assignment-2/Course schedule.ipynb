{
 "cells": [
  {
   "cell_type": "code",
   "execution_count": 13,
   "id": "b8fe3a73",
   "metadata": {},
   "outputs": [],
   "source": [
    "from collections import deque\n",
    "\n",
    "def course_schedule(n,prerequisite):\n",
    "    graph=[[] for i in range(n)]\n",
    "    indegree=[0 for i in range(n)]\n",
    "    for pre in prerequisite:\n",
    "        graph[pre[1]].append(pre[0])\n",
    "        indegree[pre[0]]+=1\n",
    "    order=[]\n",
    "    queue=deque([i for i in range(n) if indegree[i]==0])\n",
    "    while queue:\n",
    "        vertex=queue.popleft()\n",
    "        order.append(vertex)\n",
    "        for neighbhour in graph[vertex]:\n",
    "            indegree[neighbour]==0\n",
    "            if indegree[neighbour]==0:\n",
    "                queue.append(neighour)\n",
    "    return len(order)==n\n",
    "        "
   ]
  },
  {
   "cell_type": "code",
   "execution_count": 14,
   "id": "7dd7e5bd",
   "metadata": {},
   "outputs": [
    {
     "name": "stdout",
     "output_type": "stream",
     "text": [
      "False\n"
     ]
    }
   ],
   "source": [
    "n=6\n",
    "prerequisites=[[0,1],[3,0],[1,3],[2,1],[4,1],[4,2],[5,3],[5,4]]\n",
    "result=course_schedule(n,prerequisites)\n",
    "print(result)"
   ]
  },
  {
   "cell_type": "code",
   "execution_count": null,
   "id": "f3fc27aa",
   "metadata": {},
   "outputs": [],
   "source": []
  },
  {
   "cell_type": "code",
   "execution_count": null,
   "id": "21782e1b",
   "metadata": {},
   "outputs": [],
   "source": []
  }
 ],
 "metadata": {
  "kernelspec": {
   "display_name": "Python 3 (ipykernel)",
   "language": "python",
   "name": "python3"
  },
  "language_info": {
   "codemirror_mode": {
    "name": "ipython",
    "version": 3
   },
   "file_extension": ".py",
   "mimetype": "text/x-python",
   "name": "python",
   "nbconvert_exporter": "python",
   "pygments_lexer": "ipython3",
   "version": "3.9.13"
  }
 },
 "nbformat": 4,
 "nbformat_minor": 5
}
