{
 "cells": [
  {
   "cell_type": "code",
   "execution_count": 51,
   "id": "f6e4add9",
   "metadata": {},
   "outputs": [
    {
     "name": "stdout",
     "output_type": "stream",
     "text": [
      "[(9, 6), (6, 12), (7, 7), (0, 5), (8, 12), (18, 5)]\n"
     ]
    }
   ],
   "source": [
    "# problem to convert all the negative coordinates to a positive coordinates;\n",
    "coordinates= [(1,-2), (-2, 4), (-1,-1),(-8, -3), (0, 4), (10,-3)]\n",
    "minx=min(point[0]for point in coordinates)\n",
    "res=[]\n",
    "for point in coordinates:\n",
    "    res.append((point[0]+abs(minx),point[1]+abs(minx)))\n",
    "print(res)"
   ]
  }
 ],
 "metadata": {
  "kernelspec": {
   "display_name": "Python 3 (ipykernel)",
   "language": "python",
   "name": "python3"
  },
  "language_info": {
   "codemirror_mode": {
    "name": "ipython",
    "version": 3
   },
   "file_extension": ".py",
   "mimetype": "text/x-python",
   "name": "python",
   "nbconvert_exporter": "python",
   "pygments_lexer": "ipython3",
   "version": "3.9.13"
  }
 },
 "nbformat": 4,
 "nbformat_minor": 5
}
